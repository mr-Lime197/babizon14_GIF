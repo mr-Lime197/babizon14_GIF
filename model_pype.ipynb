{
 "cells": [
  {
   "cell_type": "code",
   "execution_count": 2,
   "id": "ff7a1b25",
   "metadata": {},
   "outputs": [],
   "source": [
    "import numpy as np\n",
    "import pandas as pd\n",
    "from gensim.models import Word2Vec"
   ]
  },
  {
   "cell_type": "code",
   "execution_count": 16,
   "id": "0416e2b9",
   "metadata": {},
   "outputs": [
    {
     "data": {
      "text/plain": [
       "['База, прием Я на вражеской территории',\n",
       " 'лучше с манке на велике чем с крисами на гелике пон',\n",
       " 'эта общага просто имба',\n",
       " 'Наверное это были не те бананы',\n",
       " 'Зодумался',\n",
       " 'Физру отменили',\n",
       " 'щас твой стручок откушу',\n",
       " 'вуман монке',\n",
       " 'Брад я тут смотрю ты оказывается снимался в гей порна бибизян, но почему без меня',\n",
       " 'я обезьяна',\n",
       " 'Брад я ради тебя как криштиану роналду забил',\n",
       " 'Он так хорош.. Что ему ответить на это',\n",
       " 'Так етава на расстрел етава на катаргу етава в Сибирь',\n",
       " 'Сосал? Пон',\n",
       " 'Миня нету пон',\n",
       " 'Тиш',\n",
       " 'У тебя спина белая',\n",
       " 'Отдыхаю после школоло',\n",
       " 'У задачка не из лёгких',\n",
       " 'На вас оформлено 100 кредитов пон']"
      ]
     },
     "execution_count": 16,
     "metadata": {},
     "output_type": "execute_result"
    }
   ],
   "source": [
    "with open(\"babizon14_words.txt\", \"r\", encoding=\"UTF-8\") as s:\n",
    "    data=list(map(lambda x: x.rstrip() , list(s.readlines())))\n",
    "data"
   ]
  },
  {
   "cell_type": "code",
   "execution_count": 17,
   "id": "7778cc0f",
   "metadata": {},
   "outputs": [],
   "source": [
    "from transformers import AutoTokenizer, AutoModel\n",
    "import torch\n",
    "\n",
    "# Загрузка модели и токенизатора\n",
    "tokenizer = AutoTokenizer.from_pretrained(\"cointegrated/rubert-tiny2\")\n",
    "model = AutoModel.from_pretrained(\"cointegrated/rubert-tiny2\")\n",
    "\n",
    "def get_emb(text):\n",
    "    inputs = tokenizer(text, return_tensors=\"pt\", padding=True, truncation=True)\n",
    "    with torch.no_grad():\n",
    "        outputs = model(**inputs)\n",
    "        embeddings = outputs.last_hidden_state.mean(dim=1).squeeze().numpy()\n",
    "    return embeddings"
   ]
  },
  {
   "cell_type": "code",
   "execution_count": 18,
   "id": "e4e95f16",
   "metadata": {},
   "outputs": [],
   "source": [
    "emb_seq=dict()\n",
    "for seq in data:\n",
    "    emb=get_emb(seq)\n",
    "    emb_seq[seq]=emb"
   ]
  },
  {
   "cell_type": "code",
   "execution_count": 19,
   "id": "4e823d1d",
   "metadata": {},
   "outputs": [],
   "source": [
    "def dist(point_1,point_2):\n",
    "    diff = point_1 - point_2\n",
    "    return(np.dot(diff, diff))\n",
    "def sim(text):\n",
    "    emb=get_emb(text)\n",
    "    best=data[0]\n",
    "    for seq in data:\n",
    "        if(dist(emb, emb_seq[best])> dist(emb, emb_seq[seq])):\n",
    "            best=seq\n",
    "    return best"
   ]
  },
  {
   "cell_type": "code",
   "execution_count": 32,
   "id": "47214542",
   "metadata": {},
   "outputs": [
    {
     "name": "stdout",
     "output_type": "stream",
     "text": [
      "вуман монке\n"
     ]
    }
   ],
   "source": [
    "print(sim(\"кринж\"))"
   ]
  },
  {
   "cell_type": "code",
   "execution_count": null,
   "id": "cc912366",
   "metadata": {},
   "outputs": [],
   "source": []
  }
 ],
 "metadata": {
  "kernelspec": {
   "display_name": "Python 3",
   "language": "python",
   "name": "python3"
  },
  "language_info": {
   "codemirror_mode": {
    "name": "ipython",
    "version": 3
   },
   "file_extension": ".py",
   "mimetype": "text/x-python",
   "name": "python",
   "nbconvert_exporter": "python",
   "pygments_lexer": "ipython3",
   "version": "3.11.5"
  }
 },
 "nbformat": 4,
 "nbformat_minor": 5
}
