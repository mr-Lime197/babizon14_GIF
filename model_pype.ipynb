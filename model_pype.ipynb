{
 "cells": [
  {
   "cell_type": "code",
   "execution_count": 1,
   "id": "ff7a1b25",
   "metadata": {},
   "outputs": [],
   "source": [
    "import numpy as np\n",
    "import pandas as pd\n",
    "from gensim.models import Word2Vec"
   ]
  },
  {
   "cell_type": "code",
   "execution_count": 8,
   "id": "0416e2b9",
   "metadata": {},
   "outputs": [
    {
     "data": {
      "text/plain": [
       "['База, прием Я на вражеской территории',\n",
       " 'лучше с манке на велике чем с крисами на гелике пон',\n",
       " 'эта общага просто имба',\n",
       " 'Наверное это были не те бананы',\n",
       " 'Зодумался',\n",
       " 'Физру отменили',\n",
       " 'щас твой стручок откушу',\n",
       " 'вуман монке',\n",
       " 'Брад я тут смотрю ты оказывается снимался в гей порна бибизян, но почему без меня',\n",
       " 'я обезьяна',\n",
       " 'Брад я ради тебя как криштиану роналду забил',\n",
       " 'Он так хорош.. Что ему ответить на это',\n",
       " 'Так етава на расстрел етава на катаргу етава в Сибирь',\n",
       " 'Сосал? Пон',\n",
       " 'Миня нету пон',\n",
       " 'Тиш',\n",
       " 'У тебя спина белая',\n",
       " 'Отдыхаю после школоло',\n",
       " 'У задачка не из лёгких',\n",
       " 'На вас оформлено 100 кредитов пон',\n",
       " 'Мм кукурузо',\n",
       " 'весь чат грусни',\n",
       " 'тише рап',\n",
       " 'Это несправедливо требую опеляцию',\n",
       " 'Бибизян читает',\n",
       " 'Ааааааа женщинаа',\n",
       " 'Снежни пон',\n",
       " 'Ааа страшно бежим пон',\n",
       " 'Этот чат меня когда нибудь до инсульта доведет',\n",
       " 'Ееех чота я пригрустил',\n",
       " 'Инфарматеко',\n",
       " 'Ты чего злои такои',\n",
       " 'верю верю да паверил да я уже паверил']"
      ]
     },
     "execution_count": 8,
     "metadata": {},
     "output_type": "execute_result"
    }
   ],
   "source": [
    "with open(\"babizon14_words.txt\", \"r\", encoding=\"UTF-8\") as s:\n",
    "    data=list(map(lambda x: x.rstrip() , list(s.readlines())))\n",
    "data"
   ]
  },
  {
   "cell_type": "code",
   "execution_count": 17,
   "id": "18fea171",
   "metadata": {},
   "outputs": [],
   "source": [
    "with open(\"babiz/link.json\", \"r\", encoding=\"UTF-8\") as s:\n",
    "    data=list(json.load(s).keys())"
   ]
  },
  {
   "cell_type": "code",
   "execution_count": 18,
   "id": "341424cc",
   "metadata": {},
   "outputs": [
    {
     "data": {
      "text/plain": [
       "['База, прием я на вражеской территории',\n",
       " 'Ну и ну',\n",
       " 'лучше с манке на велике чем с крисами на гелике пон',\n",
       " 'эта общага просто имба',\n",
       " 'Физру отменили',\n",
       " 'щас твой стручок откушу',\n",
       " 'Погоня чота пон',\n",
       " 'вуман монке',\n",
       " 'ча происходит',\n",
       " 'я обезьяна']"
      ]
     },
     "execution_count": 18,
     "metadata": {},
     "output_type": "execute_result"
    }
   ],
   "source": [
    "data"
   ]
  },
  {
   "cell_type": "code",
   "execution_count": 19,
   "id": "7778cc0f",
   "metadata": {},
   "outputs": [],
   "source": [
    "from transformers import AutoTokenizer, AutoModel\n",
    "import torch\n",
    "\n",
    "# Загрузка модели и токенизатора\n",
    "tokenizer = AutoTokenizer.from_pretrained(\"cointegrated/rubert-tiny2\")\n",
    "model = AutoModel.from_pretrained(\"cointegrated/rubert-tiny2\")\n",
    "\n",
    "def get_emb(text):\n",
    "    inputs = tokenizer(text, return_tensors=\"pt\", padding=True, truncation=True)\n",
    "    with torch.no_grad():\n",
    "        outputs = model(**inputs)\n",
    "        embeddings = outputs.last_hidden_state.mean(dim=1).squeeze().numpy().astype(float)\n",
    "    return list(embeddings)"
   ]
  },
  {
   "cell_type": "code",
   "execution_count": 20,
   "id": "e4e95f16",
   "metadata": {},
   "outputs": [],
   "source": [
    "emb_seq=dict()\n",
    "for seq in data:\n",
    "    emb=get_emb(seq)\n",
    "    emb_seq[seq]=emb"
   ]
  },
  {
   "cell_type": "code",
   "execution_count": 21,
   "id": "4e823d1d",
   "metadata": {},
   "outputs": [],
   "source": [
    "def dist(point_1,point_2):\n",
    "    diff = np.array(point_1) - np.array(point_2)\n",
    "    return(np.dot(diff, diff))\n",
    "def sim(text):\n",
    "    emb=get_emb(text)\n",
    "    best=data[0]\n",
    "    for seq in data:\n",
    "        if(dist(emb, emb_seq[best])> dist(emb, emb_seq[seq])):\n",
    "            best=seq\n",
    "    return best"
   ]
  },
  {
   "cell_type": "code",
   "execution_count": 12,
   "id": "47214542",
   "metadata": {},
   "outputs": [
    {
     "name": "stdout",
     "output_type": "stream",
     "text": [
      "Снежни пон\n"
     ]
    }
   ],
   "source": [
    "print(sim(\"кринж\"))"
   ]
  },
  {
   "cell_type": "code",
   "execution_count": 13,
   "id": "cc912366",
   "metadata": {},
   "outputs": [],
   "source": [
    "import json\n",
    "with open(\"data.json\", \"w\", encoding=\"UTF-8\") as s:\n",
    "    json.dump([emb_seq],s)"
   ]
  },
  {
   "cell_type": "code",
   "execution_count": 1,
   "id": "d2a6b71e",
   "metadata": {},
   "outputs": [
    {
     "name": "stdout",
     "output_type": "stream",
     "text": [
      "2025-05-19 10:53:36,427 INFO sqlalchemy.engine.Engine BEGIN (implicit)\n",
      "2025-05-19 10:53:36,428 INFO sqlalchemy.engine.Engine PRAGMA main.table_info(\"gifs_data\")\n",
      "2025-05-19 10:53:36,428 INFO sqlalchemy.engine.Engine [raw sql] ()\n",
      "2025-05-19 10:53:36,429 INFO sqlalchemy.engine.Engine PRAGMA temp.table_info(\"gifs_data\")\n",
      "2025-05-19 10:53:36,430 INFO sqlalchemy.engine.Engine [raw sql] ()\n",
      "2025-05-19 10:53:36,431 INFO sqlalchemy.engine.Engine \n",
      "CREATE TABLE gifs_data (\n",
      "\tid INTEGER NOT NULL, \n",
      "\ttext VARCHAR, \n",
      "\tvideo BLOB, \n",
      "\tPRIMARY KEY (id)\n",
      ")\n",
      "\n",
      "\n",
      "2025-05-19 10:53:36,432 INFO sqlalchemy.engine.Engine [no key 0.00061s] ()\n",
      "2025-05-19 10:53:36,437 INFO sqlalchemy.engine.Engine CREATE INDEX ix_gifs_data_id ON gifs_data (id)\n",
      "2025-05-19 10:53:36,438 INFO sqlalchemy.engine.Engine [no key 0.00096s] ()\n",
      "2025-05-19 10:53:36,443 INFO sqlalchemy.engine.Engine COMMIT\n"
     ]
    }
   ],
   "source": [
    "from sqlalchemy import create_engine\n",
    "from sqlalchemy import create_engine\n",
    "from sqlalchemy import  Column, Integer, String, LargeBinary\n",
    "from sqlalchemy.orm import DeclarativeBase, Session\n",
    "engine=create_engine(\"sqlite:///data.db\", echo=True)\n",
    "class Base(DeclarativeBase): pass\n",
    "class Gif(Base):\n",
    "    __tablename__=\"gifs_data\"\n",
    "    id = Column(Integer, primary_key=True, index=True)\n",
    "    text = Column(String)\n",
    "    video = Column(LargeBinary)\n",
    "Base.metadata.create_all(bind=engine)"
   ]
  },
  {
   "cell_type": "code",
   "execution_count": null,
   "id": "9bdd82d9",
   "metadata": {},
   "outputs": [],
   "source": [
    "import os as \n"
   ]
  },
  {
   "cell_type": "code",
   "execution_count": 9,
   "id": "b9ce8326",
   "metadata": {},
   "outputs": [
    {
     "name": "stdout",
     "output_type": "stream",
     "text": [
      "2025-05-19 10:56:00,531 INFO sqlalchemy.engine.Engine BEGIN (implicit)\n",
      "2025-05-19 10:56:00,532 INFO sqlalchemy.engine.Engine INSERT INTO gifs_data (text, video) VALUES (?, ?)\n",
      "2025-05-19 10:56:00,533 INFO sqlalchemy.engine.Engine [cached since 140.2s ago] ('Test2', <memory at 0x000001C362A37700>)\n",
      "2025-05-19 10:56:00,540 INFO sqlalchemy.engine.Engine COMMIT\n"
     ]
    }
   ],
   "source": [
    "with Session(engine) as db:\n",
    "    db.add(Gif(text=\"Test2\", video=(open(\"static/babiz/data/1.mp4\", \"rb\")).read()))\n",
    "    db.commit()"
   ]
  },
  {
   "cell_type": "code",
   "execution_count": null,
   "id": "2d6ad820",
   "metadata": {},
   "outputs": [
    {
     "name": "stdout",
     "output_type": "stream",
     "text": [
      "2025-05-19 10:59:08,594 INFO sqlalchemy.engine.Engine BEGIN (implicit)\n",
      "2025-05-19 10:59:08,594 INFO sqlalchemy.engine.Engine SELECT gifs_data.id AS gifs_data_id, gifs_data.text AS gifs_data_text, gifs_data.video AS gifs_data_video \n",
      "FROM gifs_data\n",
      "2025-05-19 10:59:08,595 INFO sqlalchemy.engine.Engine [cached since 41.33s ago] ()\n",
      "2025-05-19 10:59:08,600 INFO sqlalchemy.engine.Engine ROLLBACK\n"
     ]
    },
    {
     "data": {
      "text/plain": [
       "'Test'"
      ]
     },
     "execution_count": 17,
     "metadata": {},
     "output_type": "execute_result"
    }
   ],
   "source": [
    "with Session(engine) as db:\n",
    "    g=db.query(Gif).all()\n"
   ]
  },
  {
   "cell_type": "code",
   "execution_count": 8,
   "id": "23b0bb5e",
   "metadata": {},
   "outputs": [
    {
     "data": {
      "text/plain": [
       "111"
      ]
     },
     "execution_count": 8,
     "metadata": {},
     "output_type": "execute_result"
    }
   ],
   "source": [
    "(open(\"static/babiz/data/1.mp4\", \"rb\")).read()[10]"
   ]
  },
  {
   "cell_type": "code",
   "execution_count": 18,
   "id": "803ed8ba",
   "metadata": {},
   "outputs": [],
   "source": [
    "with open(\"testv.mp4\", \"wb\") as f:\n",
    "    f.write(g[0].video)"
   ]
  },
  {
   "cell_type": "code",
   "execution_count": 19,
   "id": "926c7afc",
   "metadata": {},
   "outputs": [],
   "source": [
    "from sqlalchemy import create_engine, Column, Integer, String, ForeignKey\n",
    "from sqlalchemy.orm import DeclarativeBase\n",
    "from sqlalchemy.orm import relationship\n",
    " \n",
    "sqlite_database = \"sqlite:///metanit2.db\"\n",
    "engine = create_engine(sqlite_database)\n",
    " \n",
    "class Base(DeclarativeBase): pass\n",
    "class User(Base):\n",
    "    __tablename__ = \"users\"\n",
    "    id = Column(Integer, primary_key=True, index=True)\n",
    "    name = Column(String)\n",
    "    company_id = Column(Integer, ForeignKey(\"companies.id\"))\n",
    "    company = relationship(\"Company\", back_populates=\"users\")\n",
    " \n",
    "class Company(Base):\n",
    "    __tablename__ = \"companies\"\n",
    "    id = Column(Integer, primary_key=True, index=True)\n",
    "    name = Column(String)\n",
    "    users = relationship(\"User\", back_populates=\"company\")\n",
    " \n",
    "Base.metadata.create_all(bind=engine)"
   ]
  },
  {
   "cell_type": "code",
   "execution_count": 20,
   "id": "c57eee7f",
   "metadata": {},
   "outputs": [],
   "source": [
    "with Session(autoflush=False, bind=engine) as db:\n",
    "    # создаем компании\n",
    "    microsoft = Company(name=\"Microsoft\")\n",
    "    google = Company(name=\"Google\")\n",
    "    # создаем пользователей\n",
    "    tom = User(name=\"Tom\")\n",
    "    bob = User(name=\"Bob\")\n",
    "    # устанавливаем для компаний списки пользователей\n",
    "    microsoft.users=[tom]\n",
    "    google.users = [bob]\n",
    "    # добавляем компании в базу данных, и вместе с ними добавляются пользователи\n",
    "    db.add_all([microsoft, google])\n",
    "    db.commit()\n",
    " \n",
    "    # можно отдельно добавить объект в список\n",
    "    alice = User(name=\"Alice\")\n",
    "    google.users.extend([alice])    # добавляем список из одного элемента\n",
    " \n",
    "    # можно установить для пользователя определенную компанию\n",
    "    sam = User(name=\"Sam\")\n",
    "    sam.company = microsoft\n",
    "    db.add(sam)\n",
    "    db.commit()"
   ]
  },
  {
   "cell_type": "code",
   "execution_count": 27,
   "id": "5efb1e48",
   "metadata": {},
   "outputs": [],
   "source": [
    "a=[1,2,3,4]\n",
    "b=np.array([4.5,6.3,5.2,4.1]).astype(np.float32)\n",
    "with open(\"gay.txt\", \"wb\") as s:\n",
    "    s.write(b.tobytes())"
   ]
  },
  {
   "cell_type": "code",
   "execution_count": 28,
   "id": "f6554c67",
   "metadata": {},
   "outputs": [],
   "source": [
    "import numpy as np"
   ]
  },
  {
   "cell_type": "code",
   "execution_count": 31,
   "id": "865b6e29",
   "metadata": {},
   "outputs": [
    {
     "data": {
      "text/plain": [
       "array([4.5, 6.3, 5.2, 4.1], dtype=float32)"
      ]
     },
     "execution_count": 31,
     "metadata": {},
     "output_type": "execute_result"
    }
   ],
   "source": [
    "with open(\"gay.txt\", \"rb\") as s:\n",
    "    d=np.frombuffer(s.read(), dtype=np.float32)\n",
    "d"
   ]
  },
  {
   "cell_type": "code",
   "execution_count": null,
   "id": "47c62ee4",
   "metadata": {},
   "outputs": [],
   "source": []
  }
 ],
 "metadata": {
  "kernelspec": {
   "display_name": "Python 3",
   "language": "python",
   "name": "python3"
  },
  "language_info": {
   "codemirror_mode": {
    "name": "ipython",
    "version": 3
   },
   "file_extension": ".py",
   "mimetype": "text/x-python",
   "name": "python",
   "nbconvert_exporter": "python",
   "pygments_lexer": "ipython3",
   "version": "3.11.5"
  }
 },
 "nbformat": 4,
 "nbformat_minor": 5
}
